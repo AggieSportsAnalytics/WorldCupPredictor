{
 "cells": [
  {
   "cell_type": "code",
   "execution_count": 1,
   "metadata": {},
   "outputs": [],
   "source": [
    "import pandas as pd\n",
    "import numpy as np\n",
    "import pickle\n",
    "\n",
    "from operator import itemgetter"
   ]
  },
  {
   "cell_type": "code",
   "execution_count": 2,
   "metadata": {},
   "outputs": [],
   "source": [
    "dfs = pd.read_html(r\"https://en.wikipedia.org/wiki/2022_FIFA_World_Cup#Teams\")"
   ]
  },
  {
   "cell_type": "code",
   "execution_count": 5,
   "metadata": {},
   "outputs": [],
   "source": [
    "matches = []\n",
    "group_names = [\"A\", \"B\", \"C\", \"D\", \"E\", \"F\", \"G\", \"H\"]\n",
    "group_count = 0 \n",
    "\n",
    "table = {}\n",
    "\n",
    "table[group_names[group_count]] = [[a.split(\" \")[0], 0, []] for a in list(dfs[11].iloc[:, 1].values)]\n",
    "\n",
    "for i in range(12, 67, 1):\n",
    "    if len(dfs[i].columns) == 3:\n",
    "        team_1 = dfs[i].columns.values[0]\n",
    "        team_2 = dfs[i].columns.values[-1]\n",
    "        \n",
    "        matches.append((group_names[group_count], team_1, team_2))\n",
    "    else:\n",
    "        group_count+=1\n",
    "        table[group_names[group_count]] = [[a, 0, []] for a in list(dfs[i].iloc[:, 1].values)]"
   ]
  },
  {
   "cell_type": "code",
   "execution_count": 6,
   "metadata": {},
   "outputs": [
    {
     "data": {
      "text/plain": [
       "{'A': [['Qatar', 0, []],\n",
       "  ['Ecuador', 0, []],\n",
       "  ['Senegal', 0, []],\n",
       "  ['Netherlands', 0, []]],\n",
       " 'B': [['England', 0, []],\n",
       "  ['Iran', 0, []],\n",
       "  ['United States', 0, []],\n",
       "  ['Wales', 0, []]],\n",
       " 'C': [['Argentina', 0, []],\n",
       "  ['Saudi Arabia', 0, []],\n",
       "  ['Mexico', 0, []],\n",
       "  ['Poland', 0, []]],\n",
       " 'D': [['France', 0, []],\n",
       "  ['Australia', 0, []],\n",
       "  ['Denmark', 0, []],\n",
       "  ['Tunisia', 0, []]],\n",
       " 'E': [['Spain', 0, []],\n",
       "  ['Costa Rica', 0, []],\n",
       "  ['Germany', 0, []],\n",
       "  ['Japan', 0, []]],\n",
       " 'F': [['Belgium', 0, []],\n",
       "  ['Canada', 0, []],\n",
       "  ['Morocco', 0, []],\n",
       "  ['Croatia', 0, []]],\n",
       " 'G': [['Brazil', 0, []],\n",
       "  ['Serbia', 0, []],\n",
       "  ['Switzerland', 0, []],\n",
       "  ['Cameroon', 0, []]],\n",
       " 'H': [['Portugal', 0, []],\n",
       "  ['Ghana', 0, []],\n",
       "  ['Uruguay', 0, []],\n",
       "  ['South Korea', 0, []]]}"
      ]
     },
     "execution_count": 6,
     "metadata": {},
     "output_type": "execute_result"
    }
   ],
   "source": [
    "table"
   ]
  },
  {
   "cell_type": "code",
   "execution_count": null,
   "metadata": {},
   "outputs": [],
   "source": []
  }
 ],
 "metadata": {
  "kernelspec": {
   "display_name": "Python 3",
   "language": "python",
   "name": "python3"
  },
  "language_info": {
   "codemirror_mode": {
    "name": "ipython",
    "version": 3
   },
   "file_extension": ".py",
   "mimetype": "text/x-python",
   "name": "python",
   "nbconvert_exporter": "python",
   "pygments_lexer": "ipython3",
   "version": "3.7.6"
  }
 },
 "nbformat": 4,
 "nbformat_minor": 4
}
