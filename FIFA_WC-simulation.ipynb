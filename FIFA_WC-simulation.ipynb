{
 "cells": [
  {
   "cell_type": "code",
   "execution_count": 2,
   "metadata": {},
   "outputs": [],
   "source": [
    "import numpy as np\n",
    "import pandas as pd\n",
    "import random as rd\n",
    "import matplotlib.pyplot as plt\n",
    "elo = pd.read_csv('/Users/vikramchoudhry/Desktop/WCelos.csv')"
   ]
  },
  {
   "cell_type": "code",
   "execution_count": 3,
   "metadata": {},
   "outputs": [],
   "source": [
    "def getOdds(elo1, elo2):\n",
    "    return 1 / (pow(10,(-(elo1-elo2)/400)) + 1)"
   ]
  },
  {
   "cell_type": "code",
   "execution_count": 4,
   "metadata": {},
   "outputs": [],
   "source": [
    "def simulate(country1, country2, elo1, elo2):\n",
    "    prob1 = getOdds(elo1, elo2)\n",
    "    rand = np.random.rand(1)\n",
    "    \n",
    "    if rand < prob1:\n",
    "     \n",
    "        return 1\n",
    "    else:\n",
    "\n",
    "        return 0"
   ]
  },
  {
   "cell_type": "code",
   "execution_count": 5,
   "metadata": {},
   "outputs": [],
   "source": [
    "list1 = []\n",
    "\n",
    "def monte_carlo(n):\n",
    "    results = 0\n",
    "    bra = 0\n",
    "    arg = 0\n",
    "    tie = 0\n",
    "    for i in range(n):\n",
    "        match_result = simulate(\"Brazil\", \"Argentina\", 2045,1960)\n",
    "\n",
    "            \n",
    "\n",
    "            \n",
    "        results = results + match_result\n",
    "        \n",
    "        prob_value = results/(i+1)\n",
    "        list1.append(prob_value)\n",
    "        plt.axhline(y=getOdds(2045,1960), color='r', linestyle='-')\n",
    "        plt.xlabel(\"Iterations\")\n",
    "        plt.ylabel(\"Probability\")\n",
    "        plt.plot(list1)\n",
    "\n",
    "    #print(\"The Match Tied\", tie/10, \"% of the time\")\n",
    "    return results/n"
   ]
  },
  {
   "cell_type": "code",
   "execution_count": 6,
   "metadata": {},
   "outputs": [
    {
     "name": "stdout",
     "output_type": "stream",
     "text": [
      "Spain vs. Germany Based on Elo Ratings\n",
      "Inititial Prediction: Spain Win Probability 0.6199413590445233\n",
      "After 1000 Monte Carlo Simulations, Spain Win Probability:  0.637\n"
     ]
    },
    {
     "data": {
      "image/png": "[encoded data removed]",
      "text/plain": [
       "<Figure size 432x288 with 1 Axes>"
      ]
     },
     "metadata": {
      "needs_background": "light"
     },
     "output_type": "display_data"
    }
   ],
   "source": [
    "answer = monte_carlo(1000)\n",
    "print(\"Spain vs. Germany Based on Elo Ratings\")\n",
    "print(\"Inititial Prediction: Spain Win Probability\", getOdds(2045,1960))\n",
    "print(\"After 1000 Monte Carlo Simulations, Spain Win Probability: \", answer)"
   ]
  },
  {
   "cell_type": "code",
   "execution_count": null,
   "metadata": {},
   "outputs": [],
   "source": []
  }
 ],
 "metadata": {
  "kernelspec": {
   "display_name": "Python 3",
   "language": "python",
   "name": "python3"
  },
  "language_info": {
   "codemirror_mode": {
    "name": "ipython",
    "version": 3
   },
   "file_extension": ".py",
   "mimetype": "text/x-python",
   "name": "python",
   "nbconvert_exporter": "python",
   "pygments_lexer": "ipython3",
   "version": "3.7.6"
  }
 },
 "nbformat": 4,
 "nbformat_minor": 4
}
