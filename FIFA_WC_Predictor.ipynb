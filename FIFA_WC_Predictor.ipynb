{
 "cells": [
  {
   "cell_type": "code",
   "execution_count": 1,
   "id": "4b3fb401",
   "metadata": {},
   "outputs": [
    {
     "name": "stdout",
     "output_type": "stream",
     "text": [
      "1\n"
     ]
    }
   ],
   "source": [
    "print(1)"
   ]
  },
  {
   "cell_type": "code",
   "execution_count": 2,
   "id": "e3af7f2b",
   "metadata": {},
   "outputs": [],
   "source": [
    "import numpy as np\n",
    "import pandas as pd\n",
    "import random as rd\n",
    "import matplotlib.pyplot as plt\n",
    "elo = pd.read_csv('elo.csv')\n",
    "elo_dict = elo.set_index('Country').T.to_dict('list')\n",
    "country1 = ''\n",
    "country2 = ''\n",
    "elo1 = 0\n",
    "elo2 = 0"
   ]
  },
  {
   "cell_type": "code",
   "execution_count": 3,
   "id": "f5b54048",
   "metadata": {
    "scrolled": true
   },
   "outputs": [
    {
     "data": {
      "text/plain": [
       "{'Brazil': [2169],\n",
       " 'Argentina': [2141],\n",
       " 'Spain': [2045],\n",
       " 'Netherlands': [2040],\n",
       " 'Belgium': [2025],\n",
       " 'France': [2005],\n",
       " 'Portugal': [2004],\n",
       " 'Denmark': [1971],\n",
       " 'Germany': [1960],\n",
       " 'Uruguay': [1936],\n",
       " 'Switzerland': [1929],\n",
       " 'Croatia': [1922],\n",
       " 'England': [1920],\n",
       " 'Serbia': [1892],\n",
       " 'Ecuador': [1840],\n",
       " 'Mexico': [1821],\n",
       " 'Iran': [1817],\n",
       " 'Poland': [1809],\n",
       " 'USA': [1798],\n",
       " 'Japan': [1798],\n",
       " 'Wales': [1790],\n",
       " 'South Korea': [1783],\n",
       " 'Qatar': [1780],\n",
       " 'Canada': [1770],\n",
       " 'Morocco': [1753],\n",
       " 'Costa Rica': [1736],\n",
       " 'Australia': [1719],\n",
       " 'Senegal': [1687],\n",
       " 'Tunisia': [1687],\n",
       " 'Saudi Arabia': [1640],\n",
       " 'Cameroon': [1609],\n",
       " 'Ghana': [1540]}"
      ]
     },
     "execution_count": 3,
     "metadata": {},
     "output_type": "execute_result"
    }
   ],
   "source": [
    "elo_dict"
   ]
  },
  {
   "cell_type": "code",
   "execution_count": 4,
   "id": "bab20d65",
   "metadata": {},
   "outputs": [],
   "source": [
    "def getCountry():\n",
    "    return input(\"Enter Country: \")"
   ]
  },
  {
   "cell_type": "code",
   "execution_count": 5,
   "id": "7668a135",
   "metadata": {},
   "outputs": [],
   "source": [
    "def getElo(country):\n",
    "    return elo_dict[country][0]"
   ]
  },
  {
   "cell_type": "code",
   "execution_count": 6,
   "id": "d6e20502",
   "metadata": {},
   "outputs": [],
   "source": [
    "def getOdds(elo1, elo2):\n",
    "    odds = 1 / (pow(10,(-(elo1-elo2)/600)) + 1)\n",
    "    return odds"
   ]
  },
  {
   "cell_type": "code",
   "execution_count": 7,
   "id": "3a3d2891",
   "metadata": {},
   "outputs": [],
   "source": [
    "def simulate(elo1, elo2):\n",
    "    prob1 = getOdds(elo1, elo2)\n",
    "    rand = np.random.rand(1)\n",
    "    draw_odds = 0\n",
    "    if prob1 < .55:\n",
    "        draw_odds = 1.3\n",
    "    elif prob1 < .6:\n",
    "        draw_odds = 1.275\n",
    "    elif prob1 < .65:\n",
    "        draw_odds = 1.25\n",
    "    elif prob1 < .7:\n",
    "        draw_odds = 1.225\n",
    "    elif prob1 < .75:\n",
    "        draw_odds = 1.2\n",
    "    elif prob1 < .8:\n",
    "        draw_odds = 1.175\n",
    "    elif prob1 < .85:\n",
    "        draw_odds = 1.15\n",
    "    elif prob1 < .9:\n",
    "        draw_odds = 1.125\n",
    "    else:\n",
    "        draw_odds = 1.1\n",
    "    if rand < draw_odds*prob1 and rand > (2-draw_odds)*prob1:\n",
    "        return .5\n",
    "    elif rand < prob1:\n",
    "        return 1\n",
    "    else:\n",
    "        return 0\n"
   ]
  },
  {
   "cell_type": "code",
   "execution_count": 8,
   "id": "21416362",
   "metadata": {},
   "outputs": [],
   "source": [
    "\n",
    "def monte_carlo(n):\n",
    "    results = 0\n",
    "    c1 = 0\n",
    "    c2 = 0\n",
    "    tie = 0\n",
    "    for i in range(n):\n",
    "        match_result = simulate(elo1,elo2)\n",
    "        \n",
    "            \n",
    "        if match_result == .5:\n",
    "            tie = tie + 1\n",
    "        elif match_result == 1:\n",
    "            c1 = c1 + 1\n",
    "        else:\n",
    "            c2 = c2 + 1\n",
    "            \n",
    "        results = results + match_result\n",
    "        \n",
    "        prob_value = results/(i+1)\n",
    "        list1.append(prob_value)\n",
    "        plt.axhline(y=getOdds(elo1,elo2), color='r', linestyle='-')\n",
    "        plt.xlabel(\"Iterations\")\n",
    "        plt.ylabel(\"Probability\")\n",
    "        plt.plot(list1)\n",
    "\n",
    "    print(f\"{country1} Win: {c1/(n/100)}%\\n{country2} Win: {c2/(n/100)}%\\nDraw: {tie/(n/100)}%\")\n",
    "    return results/n"
   ]
  },
  {
   "cell_type": "code",
   "execution_count": 10,
   "id": "69a327fe",
   "metadata": {
    "scrolled": true
   },
   "outputs": [
    {
     "name": "stdout",
     "output_type": "stream",
     "text": [
      "Enter Country: USA\n",
      "Enter Country: Wales\n",
      "USA Win: 36.1%\n",
      "Wales Win: 34.6%\n",
      "Draw: 29.3%\n"
     ]
    },
    {
     "data": {
      "image/png": "[encoded data removed]",
      "text/plain": [
       "<Figure size 432x288 with 1 Axes>"
      ]
     },
     "metadata": {
      "needs_background": "light"
     },
     "output_type": "display_data"
    }
   ],
   "source": [
    "list1 = []  \n",
    "country1 = getCountry()\n",
    "country2 = getCountry()\n",
    "elo1 = getElo(country1)\n",
    "elo2 = getElo(country2)\n",
    "answer = monte_carlo(1000)\n",
    "\n"
   ]
  },
  {
   "cell_type": "code",
   "execution_count": null,
   "id": "c9e76b7b",
   "metadata": {},
   "outputs": [],
   "source": []
  },
  {
   "cell_type": "code",
   "execution_count": null,
   "id": "7a8629dc",
   "metadata": {},
   "outputs": [],
   "source": []
  },
  {
   "cell_type": "code",
   "execution_count": null,
   "id": "232d2bec",
   "metadata": {},
   "outputs": [],
   "source": []
  },
  {
   "cell_type": "code",
   "execution_count": null,
   "id": "4558cd4a",
   "metadata": {},
   "outputs": [],
   "source": []
  }
 ],
 "metadata": {
  "kernelspec": {
   "display_name": "Python 3 (ipykernel)",
   "language": "python",
   "name": "python3"
  },
  "language_info": {
   "codemirror_mode": {
    "name": "ipython",
    "version": 3
   },
   "file_extension": ".py",
   "mimetype": "text/x-python",
   "name": "python",
   "nbconvert_exporter": "python",
   "pygments_lexer": "ipython3",
   "version": "3.9.7"
  }
 },
 "nbformat": 4,
 "nbformat_minor": 5
}
